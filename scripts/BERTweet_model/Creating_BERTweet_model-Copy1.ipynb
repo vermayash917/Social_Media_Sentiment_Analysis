{
 "cells": [
  {
   "cell_type": "markdown",
   "id": "20dfe987-8f16-4ae3-a8ad-14ca5da9ae1e",
   "metadata": {},
   "source": [
    "\n",
    "\n",
    "Step 1: Data Preprocessing and Tokenization"
   ]
  },
  {
   "cell_type": "code",
   "execution_count": 3,
   "id": "eb9669cc-353e-4cb6-9569-351221600f6d",
   "metadata": {},
   "outputs": [
    {
     "data": {
      "application/vnd.jupyter.widget-view+json": {
       "model_id": "49a13e612d3842b7a1c2c93a734212fa",
       "version_major": 2,
       "version_minor": 0
      },
      "text/plain": [
       "Map:   0%|          | 0/384798 [00:00<?, ? examples/s]"
      ]
     },
     "metadata": {},
     "output_type": "display_data"
    },
    {
     "data": {
      "application/vnd.jupyter.widget-view+json": {
       "model_id": "d2bd52fb11344be885b11997dd46a53f",
       "version_major": 2,
       "version_minor": 0
      },
      "text/plain": [
       "Saving the dataset (0/1 shards):   0%|          | 0/384798 [00:00<?, ? examples/s]"
      ]
     },
     "metadata": {},
     "output_type": "display_data"
    },
    {
     "name": "stdout",
     "output_type": "stream",
     "text": [
      "Tokenized dataset saved to: tokenized_dataset_balanced\n"
     ]
    }
   ],
   "source": [
    "import pandas as pd\n",
    "import torch\n",
    "import emoji\n",
    "import re\n",
    "from transformers import AutoTokenizer\n",
    "from datasets import Dataset\n",
    "\n",
    "# Step 1: Load the balanced dataset\n",
    "file_path = \"C:/Users/verma/Documents/SML PROJECT/DataCleaning/balanced_dataset.csv\"  # Path to your balanced dataset\n",
    "df = pd.read_csv(file_path)\n",
    "\n",
    "# Step 2: Preprocess text (if needed)\n",
    "def preprocess_text_for_berttweet(text):\n",
    "    \"\"\"\n",
    "    Preprocess text for BERTweet:\n",
    "    - Remove unnecessary whitespace.\n",
    "    - Preserve social media markers like hashtags, mentions, and emojis.\n",
    "    \"\"\"\n",
    "    text = text.lower()\n",
    "    text = emoji.demojize(text, delimiters=(\" \", \" \"))  # Convert emojis to text\n",
    "    text = re.sub(r\"@\\w+\", \" @mention \", text)  # Replace mentions\n",
    "    text = re.sub(r\"#(\\w+)\", r\" \\1 \", text)  # Keep hashtags\n",
    "    text = re.sub(r\"http\\S+|www\\S+|https\\S+\", \"\", text)  # Remove URLs\n",
    "    text = re.sub(r\"[^\\w\\s:]\", \"\", text)  # Remove special characters\n",
    "    text = text.strip()  # Remove leading/trailing spaces\n",
    "    text = ' '.join(text.split())  # Replace multiple spaces/newlines with a single space\n",
    "    return text\n",
    "\n",
    "# Apply preprocessing\n",
    "df['cleaned_text'] = df['text'].apply(preprocess_text_for_berttweet)\n",
    "\n",
    "# Step 3: Map sentiment labels to integers\n",
    "label_mapping = {'happy': 0, 'sad': 1, 'anger': 2}\n",
    "df['mapped_labels'] = df['sentiment'].map(label_mapping)\n",
    "\n",
    "# Drop rows with missing values (if any)\n",
    "df = df.dropna(subset=['cleaned_text', 'mapped_labels'])\n",
    "\n",
    "# Step 4: Tokenizer Initialization\n",
    "tokenizer = AutoTokenizer.from_pretrained(\"D:/SML Project/BERTweet/bertweet-tokenizer\")  # Pretrained BERTweet tokenizer\n",
    "\n",
    "# Step 5: Tokenize the text\n",
    "MAX_LENGTH = 128  # Adjusted based on word count distribution (short texts mostly)\n",
    "\n",
    "def tokenize_function(batch):\n",
    "    \"\"\"\n",
    "    Tokenize text for BERTweet with padding and truncation.\n",
    "    \"\"\"\n",
    "    return tokenizer(\n",
    "        batch[\"cleaned_text\"], \n",
    "        padding=\"max_length\", \n",
    "        truncation=True, \n",
    "        max_length=MAX_LENGTH\n",
    "    )\n",
    "\n",
    "# Convert DataFrame to Hugging Face Dataset\n",
    "dataset = Dataset.from_pandas(df)\n",
    "\n",
    "# Tokenize the dataset\n",
    "tokenized_dataset = dataset.map(tokenize_function, batched=True)\n",
    "\n",
    "# Remove unnecessary columns\n",
    "columns_to_remove = [\"cleaned_text\", \"text\", \"sentiment\", \"word_count\", \"__index_level_0__\"]\n",
    "columns_to_remove = [col for col in columns_to_remove if col in tokenized_dataset.column_names]\n",
    "tokenized_dataset = tokenized_dataset.remove_columns(columns_to_remove)\n",
    "\n",
    "# Ensure the `labels` column matches the required format\n",
    "if 'labels' not in tokenized_dataset.column_names:  # Avoid duplicate renaming\n",
    "    tokenized_dataset = tokenized_dataset.rename_column(\"mapped_labels\", \"labels\")\n",
    "\n",
    "# Set format for PyTorch tensors\n",
    "tokenized_dataset.set_format(type=\"torch\", columns=[\"input_ids\", \"attention_mask\", \"labels\"])\n",
    "\n",
    "# Step 6: Save the tokenized dataset\n",
    "output_path = \"tokenized_dataset_balanced\"  # Directory to save the tokenized dataset\n",
    "tokenized_dataset.save_to_disk(output_path)\n",
    "\n",
    "print(f\"Tokenized dataset saved to: {output_path}\")"
   ]
  },
  {
   "cell_type": "markdown",
   "id": "a0d94a24-2e05-403c-a66e-1ddf64713f14",
   "metadata": {},
   "source": [
    "# Step 2: Model Training and Evaluation"
   ]
  },
  {
   "cell_type": "code",
   "execution_count": 4,
   "id": "e082fd67-ec4d-41db-a11d-181e3c75607a",
   "metadata": {},
   "outputs": [
    {
     "data": {
      "application/vnd.jupyter.widget-view+json": {
       "model_id": "5b5aeb5cc95045259fd90e465e451ecc",
       "version_major": 2,
       "version_minor": 0
      },
      "text/plain": [
       "Casting the dataset:   0%|          | 0/384798 [00:00<?, ? examples/s]"
      ]
     },
     "metadata": {},
     "output_type": "display_data"
    },
    {
     "name": "stdout",
     "output_type": "stream",
     "text": [
      "Dataset splits - Train: 307838, Validation: 38480, Test: 38480\n"
     ]
    },
    {
     "name": "stderr",
     "output_type": "stream",
     "text": [
      "Some weights of RobertaForSequenceClassification were not initialized from the model checkpoint at D:/SML Project/BERTweet/bertweet-model and are newly initialized because the shapes did not match:\n",
      "- classifier.out_proj.bias: found shape torch.Size([2]) in the checkpoint and torch.Size([3]) in the model instantiated\n",
      "- classifier.out_proj.weight: found shape torch.Size([2, 768]) in the checkpoint and torch.Size([3, 768]) in the model instantiated\n",
      "You should probably TRAIN this model on a down-stream task to be able to use it for predictions and inference.\n",
      "C:\\Users\\verma\\AppData\\Roaming\\Python\\Python312\\site-packages\\transformers\\training_args.py:1568: FutureWarning: `evaluation_strategy` is deprecated and will be removed in version 4.46 of 🤗 Transformers. Use `eval_strategy` instead\n",
      "  warnings.warn(\n",
      "C:\\Users\\verma\\AppData\\Local\\Temp\\ipykernel_17392\\1797186720.py:94: FutureWarning: `tokenizer` is deprecated and will be removed in version 5.0.0 for `Trainer.__init__`. Use `processing_class` instead.\n",
      "  trainer = Trainer(\n",
      "C:\\Users\\verma\\anaconda3\\Lib\\site-packages\\accelerate\\accelerator.py:449: FutureWarning: `torch.cuda.amp.GradScaler(args...)` is deprecated. Please use `torch.amp.GradScaler('cuda', args...)` instead.\n",
      "  self.scaler = torch.cuda.amp.GradScaler(**kwargs)\n"
     ]
    },
    {
     "name": "stdout",
     "output_type": "stream",
     "text": [
      "Training started...\n"
     ]
    },
    {
     "name": "stderr",
     "output_type": "stream",
     "text": [
      "Asking to pad to max_length but no maximum length is provided and the model has no predefined maximum length. Default to no padding.\n"
     ]
    },
    {
     "data": {
      "text/html": [
       "\n",
       "    <div>\n",
       "      \n",
       "      <progress value='17' max='57720' style='width:300px; height:20px; vertical-align: middle;'></progress>\n",
       "      [   17/57720 00:55 < 59:24:52, 0.27 it/s, Epoch 0.00/3]\n",
       "    </div>\n",
       "    <table border=\"1\" class=\"dataframe\">\n",
       "  <thead>\n",
       " <tr style=\"text-align: left;\">\n",
       "      <th>Epoch</th>\n",
       "      <th>Training Loss</th>\n",
       "      <th>Validation Loss</th>\n",
       "    </tr>\n",
       "  </thead>\n",
       "  <tbody>\n",
       "  </tbody>\n",
       "</table><p>"
      ],
      "text/plain": [
       "<IPython.core.display.HTML object>"
      ]
     },
     "metadata": {},
     "output_type": "display_data"
    },
    {
     "ename": "KeyboardInterrupt",
     "evalue": "",
     "output_type": "error",
     "traceback": [
      "\u001b[1;31m---------------------------------------------------------------------------\u001b[0m",
      "\u001b[1;31mKeyboardInterrupt\u001b[0m                         Traceback (most recent call last)",
      "Cell \u001b[1;32mIn[4], line 106\u001b[0m\n\u001b[0;32m    104\u001b[0m \u001b[38;5;66;03m# Step 10: Train the Model\u001b[39;00m\n\u001b[0;32m    105\u001b[0m \u001b[38;5;28mprint\u001b[39m(\u001b[38;5;124m\"\u001b[39m\u001b[38;5;124mTraining started...\u001b[39m\u001b[38;5;124m\"\u001b[39m)\n\u001b[1;32m--> 106\u001b[0m trainer\u001b[38;5;241m.\u001b[39mtrain()\n\u001b[0;32m    108\u001b[0m \u001b[38;5;66;03m# Step 11: Evaluate the Model on the Test Dataset\u001b[39;00m\n\u001b[0;32m    109\u001b[0m \u001b[38;5;28mprint\u001b[39m(\u001b[38;5;124m\"\u001b[39m\u001b[38;5;124mEvaluating on the test dataset...\u001b[39m\u001b[38;5;124m\"\u001b[39m)\n",
      "File \u001b[1;32m~\\AppData\\Roaming\\Python\\Python312\\site-packages\\transformers\\trainer.py:2123\u001b[0m, in \u001b[0;36mTrainer.train\u001b[1;34m(self, resume_from_checkpoint, trial, ignore_keys_for_eval, **kwargs)\u001b[0m\n\u001b[0;32m   2121\u001b[0m         hf_hub_utils\u001b[38;5;241m.\u001b[39menable_progress_bars()\n\u001b[0;32m   2122\u001b[0m \u001b[38;5;28;01melse\u001b[39;00m:\n\u001b[1;32m-> 2123\u001b[0m     \u001b[38;5;28;01mreturn\u001b[39;00m inner_training_loop(\n\u001b[0;32m   2124\u001b[0m         args\u001b[38;5;241m=\u001b[39margs,\n\u001b[0;32m   2125\u001b[0m         resume_from_checkpoint\u001b[38;5;241m=\u001b[39mresume_from_checkpoint,\n\u001b[0;32m   2126\u001b[0m         trial\u001b[38;5;241m=\u001b[39mtrial,\n\u001b[0;32m   2127\u001b[0m         ignore_keys_for_eval\u001b[38;5;241m=\u001b[39mignore_keys_for_eval,\n\u001b[0;32m   2128\u001b[0m     )\n",
      "File \u001b[1;32m~\\AppData\\Roaming\\Python\\Python312\\site-packages\\transformers\\trainer.py:2486\u001b[0m, in \u001b[0;36mTrainer._inner_training_loop\u001b[1;34m(self, batch_size, args, resume_from_checkpoint, trial, ignore_keys_for_eval)\u001b[0m\n\u001b[0;32m   2480\u001b[0m \u001b[38;5;28;01mwith\u001b[39;00m context():\n\u001b[0;32m   2481\u001b[0m     tr_loss_step \u001b[38;5;241m=\u001b[39m \u001b[38;5;28mself\u001b[39m\u001b[38;5;241m.\u001b[39mtraining_step(model, inputs, num_items_in_batch)\n\u001b[0;32m   2483\u001b[0m \u001b[38;5;28;01mif\u001b[39;00m (\n\u001b[0;32m   2484\u001b[0m     args\u001b[38;5;241m.\u001b[39mlogging_nan_inf_filter\n\u001b[0;32m   2485\u001b[0m     \u001b[38;5;129;01mand\u001b[39;00m \u001b[38;5;129;01mnot\u001b[39;00m is_torch_xla_available()\n\u001b[1;32m-> 2486\u001b[0m     \u001b[38;5;129;01mand\u001b[39;00m (torch\u001b[38;5;241m.\u001b[39misnan(tr_loss_step) \u001b[38;5;129;01mor\u001b[39;00m torch\u001b[38;5;241m.\u001b[39misinf(tr_loss_step))\n\u001b[0;32m   2487\u001b[0m ):\n\u001b[0;32m   2488\u001b[0m     \u001b[38;5;66;03m# if loss is nan or inf simply add the average of previous logged losses\u001b[39;00m\n\u001b[0;32m   2489\u001b[0m     tr_loss \u001b[38;5;241m=\u001b[39m tr_loss \u001b[38;5;241m+\u001b[39m tr_loss \u001b[38;5;241m/\u001b[39m (\u001b[38;5;241m1\u001b[39m \u001b[38;5;241m+\u001b[39m \u001b[38;5;28mself\u001b[39m\u001b[38;5;241m.\u001b[39mstate\u001b[38;5;241m.\u001b[39mglobal_step \u001b[38;5;241m-\u001b[39m \u001b[38;5;28mself\u001b[39m\u001b[38;5;241m.\u001b[39m_globalstep_last_logged)\n\u001b[0;32m   2490\u001b[0m \u001b[38;5;28;01melse\u001b[39;00m:\n",
      "\u001b[1;31mKeyboardInterrupt\u001b[0m: "
     ]
    }
   ],
   "source": [
    "import torch\n",
    "from transformers import (\n",
    "    AutoModelForSequenceClassification, \n",
    "    Trainer, \n",
    "    TrainingArguments, \n",
    "    DataCollatorWithPadding, \n",
    "    AutoTokenizer\n",
    ")\n",
    "from sklearn.metrics import accuracy_score, precision_recall_fscore_support\n",
    "from datasets import load_from_disk, ClassLabel\n",
    "\n",
    "# Step 1: Load the Tokenized Dataset\n",
    "tokenized_dataset_path = \"tokenized_dataset_balanced\"  # Path to your tokenized balanced dataset\n",
    "tokenized_dataset = load_from_disk(tokenized_dataset_path)\n",
    "\n",
    "# Step 2: Convert Labels to ClassLabel\n",
    "if not isinstance(tokenized_dataset.features[\"labels\"], ClassLabel):\n",
    "    # Define the class names based on your dataset\n",
    "    class_names = [\"happy\", \"sad\", \"anger\"]  # Update with your actual class names\n",
    "    class_label = ClassLabel(names=class_names)\n",
    "    tokenized_dataset = tokenized_dataset.cast_column(\"labels\", class_label)\n",
    "\n",
    "# Step 3: Split the Dataset\n",
    "# Train-test split with stratification to ensure label balance\n",
    "train_test_split = tokenized_dataset.train_test_split(\n",
    "    test_size=0.2, \n",
    "    stratify_by_column=\"labels\", \n",
    "    seed=42\n",
    ")\n",
    "test_valid_split = train_test_split[\"test\"].train_test_split(\n",
    "    test_size=0.5, \n",
    "    seed=42\n",
    ")\n",
    "\n",
    "train_dataset = train_test_split[\"train\"]\n",
    "val_dataset = test_valid_split[\"train\"]\n",
    "test_dataset = test_valid_split[\"test\"]\n",
    "\n",
    "print(f\"Dataset splits - Train: {len(train_dataset)}, Validation: {len(val_dataset)}, Test: {len(test_dataset)}\")\n",
    "\n",
    "# Step 4: Load Pretrained Tokenizer\n",
    "tokenizer = AutoTokenizer.from_pretrained(\"D:/SML Project/BERTweet/bertweet-tokenizer\")\n",
    "\n",
    "# Step 5: Load BERTweet Model\n",
    "model = AutoModelForSequenceClassification.from_pretrained(\n",
    "    \"D:/SML Project/BERTweet/bertweet-model\", \n",
    "    num_labels=3,  # Number of sentiment classes (happy, sad, anger)\n",
    "    ignore_mismatched_sizes=True  # Ignore size mismatches\n",
    ")\n",
    "\n",
    "# Move model to GPU if available\n",
    "device = \"cuda\" if torch.cuda.is_available() else \"cpu\"\n",
    "model.to(device)\n",
    "\n",
    "# Step 6: Create Data Collator\n",
    "# Automatically pads inputs to the maximum length for batch processing\n",
    "data_collator = DataCollatorWithPadding(tokenizer=tokenizer, padding=\"max_length\")\n",
    "\n",
    "# Step 7: Define Training Arguments\n",
    "training_args = TrainingArguments(\n",
    "    output_dir=\"./results\",                 # Directory for logs and checkpoints\n",
    "    evaluation_strategy=\"epoch\",           # Evaluate after each epoch\n",
    "    learning_rate=5e-5,                     # Learning rate\n",
    "    per_device_train_batch_size=16,        # Batch size for training\n",
    "    per_device_eval_batch_size=64,         # Batch size for evaluation\n",
    "    num_train_epochs=3,                    # Number of epochs\n",
    "    weight_decay=0.01,                     # Weight decay for regularization\n",
    "    logging_dir=\"./logs\",                  # Log directory\n",
    "    save_strategy=\"epoch\",                 # Save checkpoints every epoch\n",
    "    save_total_limit=2,                    # Keep only the last 2 checkpoints\n",
    "    load_best_model_at_end=True,           # Load the best model at the end of training\n",
    "    metric_for_best_model=\"eval_loss\",     # Use validation loss to select the best model\n",
    "    greater_is_better=False,               # Lower eval_loss is better\n",
    "    fp16=torch.cuda.is_available()         # Enable mixed precision if supported\n",
    ")\n",
    "\n",
    "# Step 8: Define Metrics\n",
    "def compute_metrics(p):\n",
    "    \"\"\"\n",
    "    Compute evaluation metrics.\n",
    "    \"\"\"\n",
    "    preds = p.predictions.argmax(axis=-1)  # Convert logits to class predictions\n",
    "    labels = p.label_ids\n",
    "    precision, recall, f1, _ = precision_recall_fscore_support(labels, preds, average=\"macro\")\n",
    "    accuracy = accuracy_score(labels, preds)\n",
    "    return {\n",
    "        \"accuracy\": accuracy,\n",
    "        \"precision\": precision,\n",
    "        \"recall\": recall,\n",
    "        \"f1\": f1\n",
    "    }\n",
    "\n",
    "# Step 9: Initialize Trainer\n",
    "trainer = Trainer(\n",
    "    model=model,\n",
    "    args=training_args,\n",
    "    train_dataset=train_dataset,\n",
    "    eval_dataset=val_dataset,\n",
    "    data_collator=data_collator,\n",
    "    tokenizer=tokenizer,\n",
    "    compute_metrics=compute_metrics\n",
    ")\n",
    "\n",
    "# Step 10: Train the Model\n",
    "print(\"Training started...\")\n",
    "trainer.train()\n",
    "\n",
    "# Step 11: Evaluate the Model on the Test Dataset\n",
    "print(\"Evaluating on the test dataset...\")\n",
    "test_results = trainer.evaluate(test_dataset)\n",
    "print(\"Test Evaluation Results:\", test_results)\n",
    "\n",
    "# Step 12: Save the Fine-tuned Model and Tokenizer\n",
    "output_model_dir = \"./fine_tuned_bertweet_model_balanced\"\n",
    "output_tokenizer_dir = \"./fine_tuned_bertweet_tokenizer_balanced\"\n",
    "\n",
    "model.save_pretrained(output_model_dir)\n",
    "tokenizer.save_pretrained(output_tokenizer_dir)\n",
    "\n",
    "print(f\"Model saved to {output_model_dir}\")\n",
    "print(f\"Tokenizer saved to {output_tokenizer_dir}\")"
   ]
  },
  {
   "cell_type": "code",
   "execution_count": null,
   "id": "9523853d-b63b-441f-88ee-3ee0c7e59f1f",
   "metadata": {},
   "outputs": [],
   "source": []
  }
 ],
 "metadata": {
  "kernelspec": {
   "display_name": "Python 3 (ipykernel)",
   "language": "python",
   "name": "python3"
  },
  "language_info": {
   "codemirror_mode": {
    "name": "ipython",
    "version": 3
   },
   "file_extension": ".py",
   "mimetype": "text/x-python",
   "name": "python",
   "nbconvert_exporter": "python",
   "pygments_lexer": "ipython3",
   "version": "3.12.7"
  }
 },
 "nbformat": 4,
 "nbformat_minor": 5
}
