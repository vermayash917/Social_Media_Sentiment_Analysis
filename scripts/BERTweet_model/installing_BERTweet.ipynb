{
 "cells": [
  {
   "cell_type": "code",
   "execution_count": 1,
   "id": "893869de-8723-4bfe-a2ab-cd0009407a91",
   "metadata": {},
   "outputs": [
    {
     "name": "stderr",
     "output_type": "stream",
     "text": [
      "Some weights of RobertaForSequenceClassification were not initialized from the model checkpoint at vinai/bertweet-base and are newly initialized: ['classifier.dense.bias', 'classifier.dense.weight', 'classifier.out_proj.bias', 'classifier.out_proj.weight']\n",
      "You should probably TRAIN this model on a down-stream task to be able to use it for predictions and inference.\n"
     ]
    }
   ],
   "source": [
    "from transformers import AutoModelForSequenceClassification, AutoTokenizer\n",
    "\n",
    "model_name = \"vinai/bertweet-base\"  # Or 'vinai/bertweet-large' for the large model\n",
    "\n",
    "# Download and save locally\n",
    "tokenizer = AutoTokenizer.from_pretrained(model_name)\n",
    "model = AutoModelForSequenceClassification.from_pretrained(model_name)\n",
    "\n",
    "# Save locally\n",
    "tokenizer.save_pretrained(\"D:/SML Project/BERTweet/bertweet-tokenizer\")\n",
    "model.save_pretrained(\"D:/SML Project/BERTweet/bertweet-model\")"
   ]
  },
  {
   "cell_type": "code",
   "execution_count": null,
   "id": "114b4992-c3ef-4d8c-a99a-c86e14f03b35",
   "metadata": {},
   "outputs": [],
   "source": []
  }
 ],
 "metadata": {
  "kernelspec": {
   "display_name": "Python 3 (ipykernel)",
   "language": "python",
   "name": "python3"
  },
  "language_info": {
   "codemirror_mode": {
    "name": "ipython",
    "version": 3
   },
   "file_extension": ".py",
   "mimetype": "text/x-python",
   "name": "python",
   "nbconvert_exporter": "python",
   "pygments_lexer": "ipython3",
   "version": "3.12.7"
  }
 },
 "nbformat": 4,
 "nbformat_minor": 5
}
